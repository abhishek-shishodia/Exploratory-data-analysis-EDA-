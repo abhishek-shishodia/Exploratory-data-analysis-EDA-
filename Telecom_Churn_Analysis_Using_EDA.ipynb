{
  "nbformat": 4,
  "nbformat_minor": 0,
  "metadata": {
    "colab": {
      "private_outputs": true,
      "provenance": [],
      "include_colab_link": true
    },
    "kernelspec": {
      "name": "python3",
      "display_name": "Python 3"
    },
    "language_info": {
      "name": "python"
    }
  },
  "cells": [
    {
      "cell_type": "markdown",
      "metadata": {
        "id": "view-in-github",
        "colab_type": "text"
      },
      "source": [
        "<a href=\"https://colab.research.google.com/github/abhishek-shishodia/Exploratory-data-analysis-EDA-/blob/main/Telecom_Churn_Analysis_Using_EDA.ipynb\" target=\"_parent\"><img src=\"https://colab.research.google.com/assets/colab-badge.svg\" alt=\"Open In Colab\"/></a>"
      ]
    },
    {
      "cell_type": "markdown",
      "source": [
        "# **Project Name**    - **Telecom Churn Analysis**\n",
        "\n"
      ],
      "metadata": {
        "id": "vncDsAP0Gaoa"
      }
    },
    {
      "cell_type": "markdown",
      "source": [
        "##### **Project Type**    - EDA\n",
        "##### **Contribution**    - Individual\n",
        "##### **Member** - Abhishek Shishodia\n"
      ],
      "metadata": {
        "id": "beRrZCGUAJYm"
      }
    },
    {
      "cell_type": "markdown",
      "source": [
        "# **Project Summary -**"
      ],
      "metadata": {
        "id": "FJNUwmbgGyua"
      }
    },
    {
      "cell_type": "markdown",
      "source": [
        "**OVERVIEW OF BUSINESS PROBLEMS**\n",
        "\n",
        "Customer churn prediction is critical for every organisation since it identifies clients who are likely to discontinue utilising their services.\n",
        "\n",
        "The telecom industry faces a competitive market with an annual churn rate of 15-25%, making customer retention the most critical factor, as acquiring new clients is expensive.\n",
        "\n",
        "Integration operators prioritize retaining profitable clients, and to reduce customer turnover, they must forecast which customers are most likely to leave.\n",
        "\n",
        "This project involves analyzing customer-level data from a renowned telecom provider to identify the primary reasons for consumer departure.\n"
      ],
      "metadata": {
        "id": "F6v_1wHtG2nS"
      }
    },
    {
      "cell_type": "markdown",
      "source": [
        "# **GitHub Link -**"
      ],
      "metadata": {
        "id": "w6K7xa23Elo4"
      }
    },
    {
      "cell_type": "markdown",
      "source": [],
      "metadata": {
        "id": "h1o69JH3Eqqn"
      }
    },
    {
      "cell_type": "markdown",
      "source": [
        "# **Problem Statement**\n"
      ],
      "metadata": {
        "id": "yQaldy8SH6Dl"
      }
    },
    {
      "cell_type": "markdown",
      "source": [
        "**Orange S.A., originally France Télécom S.A., is a global telecommunications business based in France. Orange Telecom's Churn Dataset is made up of cleansed customer activity data (features) and a churn label that indicates if a consumer discontinued their service. Investigate and evaluate data to identify significant variables causing customer churn and provide strategies/recommendations to ensure client retention.**"
      ],
      "metadata": {
        "id": "DpeJGUA3kjGy"
      }
    },
    {
      "cell_type": "markdown",
      "source": [
        "# ***Let's Begin !***"
      ],
      "metadata": {
        "id": "O_i_v8NEhb9l"
      }
    },
    {
      "cell_type": "markdown",
      "source": [
        "## ***1. Know Your Data***"
      ],
      "metadata": {
        "id": "HhfV-JJviCcP"
      }
    },
    {
      "cell_type": "markdown",
      "source": [
        "### Import Libraries"
      ],
      "metadata": {
        "id": "Y3lxredqlCYt"
      }
    },
    {
      "cell_type": "code",
      "source": [
        "# Import Libraries\n",
        "import pandas as pd\n",
        "import seaborn as sns\n",
        "import matplotlib.pyplot as plt"
      ],
      "metadata": {
        "id": "M8Vqi-pPk-HR"
      },
      "execution_count": null,
      "outputs": []
    },
    {
      "cell_type": "markdown",
      "source": [
        "### Dataset Loading"
      ],
      "metadata": {
        "id": "3RnN4peoiCZX"
      }
    },
    {
      "cell_type": "code",
      "source": [
        "# Mount Drive\n",
        "from google.colab import drive\n",
        "drive.mount('/content/drive')"
      ],
      "metadata": {
        "id": "4CkvbW_SlZ_R"
      },
      "execution_count": null,
      "outputs": []
    },
    {
      "cell_type": "code",
      "source": [
        "#Loading the dataset\n",
        "tele_data = pd.read_csv('/content/drive/MyDrive/churn project/Telecom Churn.csv')"
      ],
      "metadata": {
        "id": "lihrDluZT_c4"
      },
      "execution_count": null,
      "outputs": []
    },
    {
      "cell_type": "markdown",
      "source": [
        "### Dataset First View"
      ],
      "metadata": {
        "id": "x71ZqKXriCWQ"
      }
    },
    {
      "cell_type": "code",
      "source": [
        "# Dataset First Look\n",
        "tele_data.head(3)"
      ],
      "metadata": {
        "id": "LWNFOSvLl09H"
      },
      "execution_count": null,
      "outputs": []
    },
    {
      "cell_type": "markdown",
      "source": [
        "### Dataset Rows & Columns count"
      ],
      "metadata": {
        "id": "7hBIi_osiCS2"
      }
    },
    {
      "cell_type": "code",
      "source": [
        "# Dataset Rows & Columns count\n",
        "num_rows, num_columns = tele_data.shape\n",
        "# or can use (tele_data.shape)\n",
        "# Displaying the result\n",
        "print(f\"Number of rows: {num_rows}\")\n",
        "print(f\"Number of columns: {num_columns}\")"
      ],
      "metadata": {
        "id": "Kllu7SJgmLij"
      },
      "execution_count": null,
      "outputs": []
    },
    {
      "cell_type": "markdown",
      "source": [
        "### Dataset Information"
      ],
      "metadata": {
        "id": "JlHwYmJAmNHm"
      }
    },
    {
      "cell_type": "code",
      "source": [
        "# Dataset Info\n",
        "tele_data.info()"
      ],
      "metadata": {
        "id": "e9hRXRi6meOf"
      },
      "execution_count": null,
      "outputs": []
    },
    {
      "cell_type": "markdown",
      "source": [
        "**It provides information about the DataFrame, including the data types of each column, the number of non-null values, and memory usage.**"
      ],
      "metadata": {
        "id": "wrm4xZzCWDIG"
      }
    },
    {
      "cell_type": "markdown",
      "source": [
        "#### Duplicate Values"
      ],
      "metadata": {
        "id": "35m5QtbWiB9F"
      }
    },
    {
      "cell_type": "code",
      "source": [
        "# Dataset Duplicate Value Count\n",
        "tele_data.duplicated().sum() # For counting the number of duplicate rows in a DataFrame which is currently (zero or 0)"
      ],
      "metadata": {
        "id": "1sLdpKYkmox0"
      },
      "execution_count": null,
      "outputs": []
    },
    {
      "cell_type": "markdown",
      "source": [
        "#### Missing Values/Null Values"
      ],
      "metadata": {
        "id": "PoPl-ycgm1ru"
      }
    },
    {
      "cell_type": "code",
      "source": [
        "# Missing Values/Null Values Count\n",
        "tele_data.isnull().sum()"
      ],
      "metadata": {
        "id": "GgHWkxvamxVg"
      },
      "execution_count": null,
      "outputs": []
    },
    {
      "cell_type": "code",
      "source": [
        "# Visualizing the missing values\n",
        "sns.heatmap(tele_data.isnull())"
      ],
      "metadata": {
        "id": "3q5wnI3om9sJ"
      },
      "execution_count": null,
      "outputs": []
    },
    {
      "cell_type": "markdown",
      "source": [
        "### What did you know about your dataset?"
      ],
      "metadata": {
        "id": "H0kj-8xxnORC"
      }
    },
    {
      "cell_type": "markdown",
      "source": [
        "The dataset provided is from the telecommunications business, and we must analyze customer turnover and the reasoning behind it.\n",
        "\n",
        "Churn prediction is the analysis of the likelihood of a consumer departing a product or service. The objective is to understand and correct it before the customer abandons the product or service.\n",
        "\n",
        "* The dataset here contains 3333 rows and 20 columns of\n",
        "customer activity data such as area code, plan information, call details, and churn labels indicating if the user terminated the subscription.\n",
        "\n",
        "* The dataset contains no missing or duplicate values."
      ],
      "metadata": {
        "id": "gfoNAAC-nUe_"
      }
    },
    {
      "cell_type": "markdown",
      "source": [
        "## ***2. Understanding Your Variables***"
      ],
      "metadata": {
        "id": "nA9Y7ga8ng1Z"
      }
    },
    {
      "cell_type": "code",
      "source": [
        "# Dataset Columns\n",
        "tele_data.columns"
      ],
      "metadata": {
        "id": "j7xfkqrt5Ag5"
      },
      "execution_count": null,
      "outputs": []
    },
    {
      "cell_type": "code",
      "source": [
        "# Dataset Describe\n",
        "tele_data.describe()"
      ],
      "metadata": {
        "id": "DnOaZdaE5Q5t"
      },
      "execution_count": null,
      "outputs": []
    },
    {
      "cell_type": "markdown",
      "source": [
        "### Variables Description"
      ],
      "metadata": {
        "id": "PBTbrJXOngz2"
      }
    },
    {
      "cell_type": "markdown",
      "source": [
        "*State : All 51 states\n",
        "\n",
        "*Account Length : How long account has been active\n",
        "\n",
        "*Area Code : Code Number of Area\n",
        "\n",
        "*lntl Plan : International plan activated ( yes, no )\n",
        "\n",
        "*VMail Plan : Voice Mail plan activated ( yes ,no )\n",
        "\n",
        "*VMail Message : No.of voice mail messages\n",
        "\n",
        "*Day Mins : Total day minutes used\n",
        "\n",
        "*Day calls : Total day calls made\n",
        "\n",
        "*Day Charge : Total day charge\n",
        "\n",
        "*Eve Mins : Total evening minutes\n",
        "\n",
        "*Eve Calls : Total evening calls\n",
        "\n",
        "*Eve Charge : Total evening charge\n",
        "\n",
        "*Night Mins : Total night minutes\n",
        "\n",
        "*Night Calls : Total night calls\n",
        "\n",
        "*Night Charge : Total night charge\n",
        "\n",
        "*Intl Mins : Total International minutes used\n",
        "\n",
        "*Intl Calls : Total International calls made\n",
        "\n",
        "*Intl Charge : Total International charge\n",
        "\n",
        "*CustServ calls : Number of customer service calls made\n",
        "\n",
        "*Churn : Customer churn (Target Variable True=1, False=0)"
      ],
      "metadata": {
        "id": "aJV4KIxSnxay"
      }
    },
    {
      "cell_type": "markdown",
      "source": [
        "### Check Unique Values for each variable."
      ],
      "metadata": {
        "id": "u3PMJOP6ngxN"
      }
    },
    {
      "cell_type": "code",
      "source": [
        "# # Check Unique Values for each variable.\n",
        "for i in tele_data.columns:\n",
        "  print(f\"No. of unique values in {i} is :\",tele_data[i].nunique())"
      ],
      "metadata": {
        "id": "zms12Yq5n-jE"
      },
      "execution_count": null,
      "outputs": []
    },
    {
      "cell_type": "markdown",
      "source": [
        "## 3. ***Data Wrangling***"
      ],
      "metadata": {
        "id": "dauF4eBmngu3"
      }
    },
    {
      "cell_type": "markdown",
      "source": [
        "### Data Wrangling Code"
      ],
      "metadata": {
        "id": "bKJF3rekwFvQ"
      }
    },
    {
      "cell_type": "code",
      "source": [
        "# to know how many customers churn\n",
        "# print((tele_data['Churn']==True).sum())\n",
        "# print(tele_data[tele_data['Churn'] == True]['Churn'].count())"
      ],
      "metadata": {
        "id": "tQ8NeCqfkA-N"
      },
      "execution_count": null,
      "outputs": []
    },
    {
      "cell_type": "code",
      "source": [
        "# Write your code to make your dataset analysis ready.\n",
        "print(\"No. of Customers Churning:\", tele_data[tele_data['Churn'] == True]['Churn'].count())\n",
        "# Variable Assigning to churned data\n",
        "churn_df = tele_data[tele_data['Churn']==True]\n",
        "#Dataframe of customers Churning\n",
        "churn_df"
      ],
      "metadata": {
        "id": "wk-9a2fpoLcV"
      },
      "execution_count": null,
      "outputs": []
    },
    {
      "cell_type": "code",
      "source": [
        "# Total No of Unique Area Code\n",
        "print(\"No of Unique Area Code :\", tele_data['Area code'].nunique())"
      ],
      "metadata": {
        "id": "ZB-9ZZFgj2WK"
      },
      "execution_count": null,
      "outputs": []
    },
    {
      "cell_type": "code",
      "source": [
        "# Customers On which Internaltion plan is activated\n",
        "print(\"No of customer with international plan activated :\", tele_data[tele_data['International plan']=='Yes']['International plan'].count())\n",
        "# print((tele_data['International plan'] == 'Yes').sum())\n",
        "# print(tele_data[tele_data['International plan'] == 'Yes']['International plan'].count())\n"
      ],
      "metadata": {
        "id": "ae6jv1c8lD3G"
      },
      "execution_count": null,
      "outputs": []
    },
    {
      "cell_type": "code",
      "source": [
        "# Customers On which Voice mail plan is activated\n",
        "print(\"No of customer with Voice mail plan activated :\", tele_data[tele_data['Voice mail plan']=='Yes']['Voice mail plan'].count())\n",
        "# print((tele_data['Voice mail plan'] == 'Yes').sum())"
      ],
      "metadata": {
        "id": "MfSRCgjvlGwd"
      },
      "execution_count": null,
      "outputs": []
    },
    {
      "cell_type": "code",
      "source": [
        "# % of total customers churning\n",
        "print(\"Total no. of customers :\", tele_data.Churn.count())\n",
        "print(\"Total no. of customers in churn dataframe (who have churn value (services discarded)=True)\",churn_df.Churn.count())\n",
        "perc_churn = (churn_df.Churn.count()/tele_data.Churn.count())*100\n",
        "print(f\"Percentage of customer churning : {round(perc_churn,3)}%\")"
      ],
      "metadata": {
        "id": "Q6yGnvjjl4b9"
      },
      "execution_count": null,
      "outputs": []
    },
    {
      "cell_type": "code",
      "source": [
        "# Grouping by 'State' and counting churned customers\n",
        "state_cust_churn = churn_df.groupby(['State'])['Churn'].value_counts().reset_index(name='Churn_customer')\n",
        "\n",
        "# Displaying the total count of churned customers across all states\n",
        "# print(state_cust_churn.sum())\n",
        "print(f\"Churning Customers from {state_cust_churn['State'].count()} States ↓ \")\n",
        "print(f\"Total Churning Customers :{churn_df.Churn.sum()}\")\n",
        "\n",
        "# Displaying the DataFrame with state-wise churned customers\n",
        "state_cust_churn"
      ],
      "metadata": {
        "id": "4Ng2gsSd6oxt"
      },
      "execution_count": null,
      "outputs": []
    },
    {
      "cell_type": "code",
      "source": [
        "# Account length wise churn data\n",
        "acc_len_churn = churn_df.groupby(['Account length'])['Churn'].value_counts().reset_index(name='values')\n",
        "print(acc_len_churn.sum())\n",
        "acc_len_churn"
      ],
      "metadata": {
        "id": "o0jVA86o9LT6"
      },
      "execution_count": null,
      "outputs": []
    },
    {
      "cell_type": "code",
      "source": [
        "# Area Code wise churn Percentage\n",
        "Area_code_churn_perc = (tele_data.groupby(['Area code'])['Churn'].mean()*100).reset_index()\n",
        "Area_code_churn_perc"
      ],
      "metadata": {
        "id": "zF5iw2pH-N-r"
      },
      "execution_count": null,
      "outputs": []
    },
    {
      "cell_type": "code",
      "source": [
        "# Area code wise Churn Count\n",
        "Area_code_churn_count = churn_df.groupby(['Area code'])['Churn'].value_counts().reset_index(name='Counts')\n",
        "Area_code_churn_count"
      ],
      "metadata": {
        "id": "-ubSb2eE-cCn"
      },
      "execution_count": null,
      "outputs": []
    },
    {
      "cell_type": "code",
      "source": [
        "#Poor Connectivity by intersection of state by area code\n",
        "Area_state_churn = churn_df.groupby(['Area code'])['State'].unique().reset_index(name='Unique state')\n",
        "Area_state_churn"
      ],
      "metadata": {
        "id": "4Ohdjj6P-twY"
      },
      "execution_count": null,
      "outputs": []
    },
    {
      "cell_type": "code",
      "source": [
        "# Assigning the list of state of each area\n",
        "Area_408_state_churn = Area_state_churn.loc[0,'Unique state']\n",
        "Area_415_state_churn = Area_state_churn.loc[1,'Unique state']\n",
        "Area_510_state_churn = Area_state_churn.loc[2,'Unique state']\n",
        "\n",
        "inter_1= set(Area_408_state_churn).intersection(set(Area_415_state_churn))\n",
        "poor_connectivity_states = set(inter_1).intersection(set(Area_510_state_churn))\n",
        "\n",
        "print(f\"Intersection by different areas code of churning gives {len(poor_connectivity_states)} poor connectivity states\")\n",
        "print(\"Try to short down the list of state by different dataset to generate more precise poor connectivity states\")\n",
        "l =[i for i in poor_connectivity_states]\n",
        "print(l)"
      ],
      "metadata": {
        "id": "X5Yi5C6t_Wb7"
      },
      "execution_count": null,
      "outputs": []
    },
    {
      "cell_type": "code",
      "source": [
        "# Total number of customers who have churned without an international plan\n",
        "total_churned_without_intl_plan = tele_data[tele_data['International plan'] == 'No']['Churn'].sum()\n",
        "# print(total_churned_without_intl_plan)\n",
        "# Total number of customers without an international plan\n",
        "total_customers_without_intl_plan = tele_data[tele_data['International plan'] == 'No'].shape[0]\n",
        "# print(total_customers_without_intl_plan)\n",
        "# Calculate the percentage of customers who have churned without an international plan\n",
        "percentage_churned_without_intl_plan = (total_churned_without_intl_plan / total_customers_without_intl_plan) * 100\n",
        "# Total number of customers who have churned with an international plan\n",
        "total_churned_with_intl_plan = tele_data[tele_data['International plan'] == 'Yes']['Churn'].sum()\n",
        "# print(total_churned_with_intl_plan)\n",
        "# Total number of customers with an international plan\n",
        "total_customers_with_intl_plan = tele_data[tele_data['International plan'] == 'Yes'].shape[0]\n",
        "# print(total_customers_with_intl_plan)\n",
        "# Calculate the percentage of customers who have churned with an international plan\n",
        "percentage_churned_with_intl_plan = (total_churned_with_intl_plan / total_customers_with_intl_plan) * 100\n",
        "\n",
        "print(f\"Total number of customers who have churned without International plan: {total_churned_without_intl_plan} \"\n",
        "      f\"(Percentage: {percentage_churned_without_intl_plan:.2f}%)\")\n",
        "\n",
        "print(f\"Total number of customers who have churned with International plan: {total_churned_with_intl_plan} \"\n",
        "      f\"(Percentage: {percentage_churned_with_intl_plan:.2f}%)\")\n"
      ],
      "metadata": {
        "id": "e6IU52sRkKR-"
      },
      "execution_count": null,
      "outputs": []
    },
    {
      "cell_type": "code",
      "source": [
        "# Total number of customers who have churned with Voice mail plan\n",
        "total_churned_with_vmail_plan = tele_data[tele_data['Voice mail plan'] == 'Yes']['Churn'].sum()\n",
        "# Total number of customers with Voice mail plan\n",
        "total_customers_with_vmail_plan = tele_data[tele_data['Voice mail plan'] == 'Yes'].shape[0]\n",
        "# Calculate the percentage of customers who have churned with Voice mail plan\n",
        "percentage_churned_with_vmail_plan = (total_churned_with_vmail_plan / total_customers_with_vmail_plan) * 100\n",
        "\n",
        "# Total number of customers who have churned without Voice mail plan\n",
        "total_churned_without_vmail_plan = tele_data[tele_data['Voice mail plan'] == 'No']['Churn'].sum()\n",
        "# Total number of customers without Voice mail plan\n",
        "total_customers_without_vmail_plan = tele_data[tele_data['Voice mail plan'] == 'No'].shape[0]\n",
        "# Calculate the percentage of customers who have churned without Voice mail plan\n",
        "percentage_churned_without_vmail_plan = (total_churned_without_vmail_plan / total_customers_without_vmail_plan) * 100\n",
        "\n",
        "print(f\"Total number of customers who have churned with Voice mail plan: {total_churned_with_vmail_plan} \"\n",
        "      f\"(Percentage: {percentage_churned_with_vmail_plan:.2f}%)\")\n",
        "\n",
        "print(f\"Total number of customers who have churned without Voice mail plan: {total_churned_without_vmail_plan} \"\n",
        "      f\"(Percentage: {percentage_churned_without_vmail_plan:.2f}%)\")\n"
      ],
      "metadata": {
        "id": "ccQwef-Jn-we"
      },
      "execution_count": null,
      "outputs": []
    },
    {
      "cell_type": "code",
      "source": [
        "# Customers churning with both International plan and Voice mail plan\n",
        "intl_vmail_yes = tele_data[(tele_data['International plan'] == 'Yes') & (tele_data['Voice mail plan'] == 'Yes')]\n",
        "total_churned_intl_vmail_yes = intl_vmail_yes['Churn'].sum()\n",
        "total_customers_intl_vmail_yes = intl_vmail_yes.shape[0]\n",
        "percentage_churned_intl_vmail_yes = (total_churned_intl_vmail_yes / total_customers_intl_vmail_yes) * 100\n",
        "\n",
        "print(f\"Customers churning with both International and Voice mail plan:\")\n",
        "print(f\"Count: {total_churned_intl_vmail_yes}, Percentage: {percentage_churned_intl_vmail_yes:.2f}%\")\n",
        "\n",
        "# Customers churning with neither International plan nor Voice mail plan\n",
        "intl_vmail_no = tele_data[(tele_data['International plan'] == 'No') & (tele_data['Voice mail plan'] == 'No')]\n",
        "total_churned_intl_vmail_no = intl_vmail_no['Churn'].sum()\n",
        "total_customers_intl_vmail_no = intl_vmail_no.shape[0]\n",
        "percentage_churned_intl_vmail_no = (total_churned_intl_vmail_no / total_customers_intl_vmail_no) * 100\n",
        "\n",
        "print(f\"\\nCustomers churning with neither International nor Voice mail plan:\")\n",
        "print(f\"Count: {total_churned_intl_vmail_no}, Percentage: {percentage_churned_intl_vmail_no:.2f}%\")\n",
        "\n",
        "# Customers churning with International plan but no Voice mail plan\n",
        "intl_yes_vmail_no = tele_data[(tele_data['International plan'] == 'Yes') & (tele_data['Voice mail plan'] == 'No')]\n",
        "total_churned_intl_yes_vmail_no = intl_yes_vmail_no['Churn'].sum()\n",
        "total_customers_intl_yes_vmail_no = intl_yes_vmail_no.shape[0]\n",
        "percentage_churned_intl_yes_vmail_no = (total_churned_intl_yes_vmail_no / total_customers_intl_yes_vmail_no) * 100\n",
        "\n",
        "print(f\"\\nCustomers churning with International plan but no Voice mail plan:\")\n",
        "print(f\"Count: {total_churned_intl_yes_vmail_no}, Percentage: {percentage_churned_intl_yes_vmail_no:.2f}%\")\n",
        "\n",
        "# Customers churning with no International plan but Voice mail plan\n",
        "intl_no_vmail_yes = tele_data[(tele_data['International plan'] == 'No') & (tele_data['Voice mail plan'] == 'Yes')]\n",
        "total_churned_intl_no_vmail_yes = intl_no_vmail_yes['Churn'].sum()\n",
        "total_customers_intl_no_vmail_yes = intl_no_vmail_yes.shape[0]\n",
        "percentage_churned_intl_no_vmail_yes = (total_churned_intl_no_vmail_yes / total_customers_intl_no_vmail_yes) * 100\n",
        "\n",
        "print(f\"\\nCustomers churning with no International plan but Voice mail plan:\")\n",
        "print(f\"Count: {total_churned_intl_no_vmail_yes}, Percentage: {percentage_churned_intl_no_vmail_yes:.2f}%\")"
      ],
      "metadata": {
        "id": "5TFnAIDuotPR"
      },
      "execution_count": null,
      "outputs": []
    },
    {
      "cell_type": "code",
      "source": [
        "# Poor Connectivity States\n",
        "# States Sorted with respect to international and voice mail plan\n",
        "state_intl_vmail_yes=intl_vmail_yes['State'].unique()\n",
        "state_intl_vmail_no =intl_vmail_no['State'].unique()\n",
        "state_intl_yes_vmail_no= intl_yes_vmail_no['State'].unique()\n",
        "state_intl_no_vmail_yes= intl_no_vmail_yes['State'].unique()\n",
        "\n",
        "# Intersection of 4 types of plan made\n",
        "inter_1 = set(state_intl_vmail_yes).intersection(set(state_intl_vmail_no))\n",
        "inter_2 = set(state_intl_yes_vmail_no).intersection(set(state_intl_no_vmail_yes))\n",
        "Intersection =set(inter_1).intersection(set(inter_2))\n",
        "print(f\"List of poor connectivity states are : {list(Intersection)}\")"
      ],
      "metadata": {
        "id": "LtNOIOFbAvkJ"
      },
      "execution_count": null,
      "outputs": []
    },
    {
      "cell_type": "code",
      "source": [
        "# Percentage of People with number of Voice mail messages churning/not-churning to other networks\n",
        "vmail_mssg_churn = tele_data.groupby(['Churn'])['Number vmail messages'].mean().reset_index(name='Avg_vmail_mssg')\n",
        "vmail_mssg_churn"
      ],
      "metadata": {
        "id": "Gbjxj0y_A-5y"
      },
      "execution_count": null,
      "outputs": []
    },
    {
      "cell_type": "code",
      "source": [
        "# Day Data\n",
        "# Calculate the overall average day minutes\n",
        "overall_avg_day_mins = tele_data['Total day minutes'].mean()\n",
        "\n",
        "# Calculate the average day minutes for each churn group\n",
        "avg_day_mins_by_churn = tele_data.groupby(['Churn'])['Total day minutes'].mean().reset_index(name='Avg_day_mins')\n",
        "\n",
        "# Calculate the percentage of people churning with the average day min relative to overall average\n",
        "avg_day_mins_by_churn['Percentage_churning'] = (avg_day_mins_by_churn['Avg_day_mins'] / overall_avg_day_mins) * 100\n",
        "\n",
        "print(avg_day_mins_by_churn)\n"
      ],
      "metadata": {
        "id": "YjX_SJZwrhYo"
      },
      "execution_count": null,
      "outputs": []
    },
    {
      "cell_type": "code",
      "source": [
        "# Day Calls Data\n",
        "# Calculate the overall average day calls\n",
        "overall_avg_day_calls = tele_data['Total day calls'].mean()\n",
        "\n",
        "# Calculate the average day calls for each churn group\n",
        "avg_day_calls_by_churn = tele_data.groupby(['Churn'])['Total day calls'].mean().reset_index(name='Avg_day_calls')\n",
        "\n",
        "# Calculate the percentage of people churning with the average day calls relative to overall average\n",
        "avg_day_calls_by_churn['Percentage_churning'] = (avg_day_calls_by_churn['Avg_day_calls'] / overall_avg_day_calls) * 100\n",
        "\n",
        "print(avg_day_calls_by_churn)\n"
      ],
      "metadata": {
        "id": "dlqOG-kQBN5Q"
      },
      "execution_count": null,
      "outputs": []
    },
    {
      "cell_type": "code",
      "source": [
        "# Day Charge Data\n",
        "# Calculate the overall average day charge\n",
        "overall_avg_day_charge = tele_data['Total day charge'].mean()\n",
        "\n",
        "# Calculate the average day charge for each churn group\n",
        "avg_day_charge_by_churn = tele_data.groupby(['Churn'])['Total day charge'].mean().reset_index(name='Avg_day_charge')\n",
        "\n",
        "# Calculate the percentage of people churning with the average day charge relative to overall average\n",
        "avg_day_charge_by_churn['Percentage_churning'] = (avg_day_charge_by_churn['Avg_day_charge'] / overall_avg_day_charge) * 100\n",
        "\n",
        "print(avg_day_charge_by_churn)\n"
      ],
      "metadata": {
        "id": "sIvo4zw1BT9W"
      },
      "execution_count": null,
      "outputs": []
    },
    {
      "cell_type": "code",
      "source": [
        "# Evening Data\n",
        "# Calculate the overall average evening minutes\n",
        "overall_avg_eve_mins = tele_data['Total eve minutes'].mean()\n",
        "\n",
        "# Calculate the average evening minutes for each churn group\n",
        "avg_eve_mins_by_churn = tele_data.groupby(['Churn'])['Total eve minutes'].mean().reset_index(name='Avg_eve_mins')\n",
        "\n",
        "# Calculate the percentage of people churning with the average evening mins relative to overall average\n",
        "avg_eve_mins_by_churn['Percentage_churning'] = (avg_eve_mins_by_churn['Avg_eve_mins'] / overall_avg_eve_mins) * 100\n",
        "\n",
        "print(avg_eve_mins_by_churn)\n"
      ],
      "metadata": {
        "id": "Dg5NuOTNBYNu"
      },
      "execution_count": null,
      "outputs": []
    },
    {
      "cell_type": "code",
      "source": [
        "# Evening Calls Data\n",
        "# Calculate the overall average evening calls\n",
        "overall_avg_eve_calls = tele_data['Total eve calls'].mean()\n",
        "\n",
        "# Calculate the average evening calls for each churn group\n",
        "avg_eve_calls_by_churn = tele_data.groupby(['Churn'])['Total eve calls'].mean().reset_index(name='Avg_eve_calls')\n",
        "\n",
        "# Calculate the percentage of people churning with the average evening calls relative to overall average\n",
        "avg_eve_calls_by_churn['Percentage_churning'] = (avg_eve_calls_by_churn['Avg_eve_calls'] / overall_avg_eve_calls) * 100\n",
        "\n",
        "print(avg_eve_calls_by_churn)\n"
      ],
      "metadata": {
        "id": "8JjN1WNcBi8X"
      },
      "execution_count": null,
      "outputs": []
    },
    {
      "cell_type": "code",
      "source": [
        "# Evening Charge Data\n",
        "# Calculate the overall average evening charge\n",
        "overall_avg_eve_charge = tele_data['Total eve charge'].mean()\n",
        "\n",
        "# Calculate the average evening charge for each churn group\n",
        "avg_eve_charge_by_churn = tele_data.groupby(['Churn'])['Total eve charge'].mean().reset_index(name='Avg_eve_charge')\n",
        "\n",
        "# Calculate the percentage of people churning with the average evening charge relative to overall average\n",
        "avg_eve_charge_by_churn['Percentage_churning'] = (avg_eve_charge_by_churn['Avg_eve_charge'] / overall_avg_eve_charge) * 100\n",
        "\n",
        "print(avg_eve_charge_by_churn)\n"
      ],
      "metadata": {
        "id": "yY2CKxuBBlVj"
      },
      "execution_count": null,
      "outputs": []
    },
    {
      "cell_type": "code",
      "source": [
        "# Night Data\n",
        "# Percentage of people churning with the average Night mins,calls and charge.\n",
        "print('*'*30)\n",
        "print(tele_data.groupby(['Churn'])['Total night minutes'].mean().reset_index(name='Avg_night_mins'))\n",
        "print('*'*30)\n",
        "print(tele_data.groupby(['Churn'])['Total night calls'].mean().reset_index(name='Avg_night_calls'))\n",
        "print('*'*30)\n",
        "print(tele_data.groupby(['Churn'])['Total night charge'].mean().reset_index(name='Avg_night_charge'))\n",
        "print('*'*30)"
      ],
      "metadata": {
        "id": "Ry6QneCNCGiJ"
      },
      "execution_count": null,
      "outputs": []
    },
    {
      "cell_type": "code",
      "source": [
        "# Intl Call Data\n",
        "# Percentage of people churning with the average international mins,calls and charge.\n",
        "print(tele_data.groupby(['Churn'])['Total intl minutes'].mean().reset_index(name='Avg_intl_mins'))\n",
        "print('*'*30)\n",
        "print(tele_data.groupby(['Churn'])['Total intl calls'].mean().reset_index(name='Avg_intl_calls'))\n",
        "print('*'*30)\n",
        "print(tele_data.groupby(['Churn'])['Total intl charge'].mean().reset_index(name='Avg_intl_charge'))"
      ],
      "metadata": {
        "id": "o-VxkQq0DCY5"
      },
      "execution_count": null,
      "outputs": []
    },
    {
      "cell_type": "code",
      "source": [
        "# Combining of day,evening and night calls, mins and charges\n",
        "tele_data['Total calls'] = tele_data.loc[:,['Total day calls','Total eve calls', 'Total night calls']].sum(axis=1)\n",
        "tele_data['Total mins'] = tele_data.loc[:,['Total day minutes','Total eve minutes', 'Total night minutes']].sum(axis=1)\n",
        "tele_data['Total charge'] = tele_data.loc[:,['Total day charge','Total eve charge', 'Total night charge']].sum(axis=1)\n",
        "\n",
        "# mins per call\n",
        "tele_data['min_per_call'] = tele_data['Total mins']/tele_data['Total calls']\n",
        "\n",
        "#charge per min\n",
        "tele_data['charge_per_min'] = tele_data['Total charge']/tele_data['Total mins']\n",
        "\n",
        "# International mins per call\n",
        "tele_data['Intl_min_per_call'] = tele_data['Total intl minutes']/tele_data['Total intl calls']\n",
        "\n",
        "#International charge per min\n",
        "tele_data['Intl_charge_per_min'] = tele_data['Total intl charge']/tele_data['Total intl minutes']"
      ],
      "metadata": {
        "id": "UvhesX--Drqy"
      },
      "execution_count": null,
      "outputs": []
    },
    {
      "cell_type": "code",
      "source": [
        "# Customer Service Call Data\n",
        "print(\"No of unique service calls made:\", tele_data['Customer service calls'].nunique())\n",
        "\n",
        "# Calculate the percentage of churning based on the customer service calls made\n",
        "avg_churned_services = (tele_data.groupby(['Customer service calls'])['Churn'].mean() * 100).reset_index(name='Percentage_churning')\n",
        "\n",
        "print(\"Percentage of churning based on the number of customer service calls made:\")\n",
        "print(avg_churned_services)\n"
      ],
      "metadata": {
        "id": "j-wXkMz-t0YX"
      },
      "execution_count": null,
      "outputs": []
    },
    {
      "cell_type": "markdown",
      "source": [
        "### What all manipulations have you done and insights you found?"
      ],
      "metadata": {
        "id": "MSa1f5Uengrz"
      }
    },
    {
      "cell_type": "markdown",
      "source": [
        "The initial step in data wrangling was determining the type of customer turnover, the number of non-churn customers, and their rate. We are aware that using charts to plot data will increase our visual representation. Thus, we learned from this that there are approximately 14.5% of churned clients.\n",
        "\n",
        "Following that, we tabulated the results of certain manipulations we had done based on area codes.\n",
        "\n",
        "\n",
        "![download (1).png](data:image/png;base64,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)\n",
        "\n",
        "**The above table indicates that area code 415 has a higher proportion of customers; nonetheless, the distribution of churn is nearly the same across all area codes.**\n",
        "\n",
        "Churn on basis of international plan\n",
        "\n",
        "We discovered from this that customers who have foreign plans have a higher churn rate—nearly 42.41% of clients cancel.\n",
        "\n",
        "Churn based on voice mail and international plans\n",
        "\n",
        "**There are 483 total customer churns.**\n",
        "\n",
        "![download (2).png](data:image/png;base64,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)\n",
        "\n",
        "Therefore, based on this table, we may conclude that a substantial percentage of people—roughly 62%—have neither a vmail plan nor an international plan.\n"
      ],
      "metadata": {
        "id": "LbyXE7I1olp8"
      }
    },
    {
      "cell_type": "markdown",
      "source": [
        "## ***4. Data Vizualization, Storytelling & Experimenting with charts : Understand the relationships between variables***"
      ],
      "metadata": {
        "id": "GF8Ens_Soomf"
      }
    },
    {
      "cell_type": "markdown",
      "source": [
        "#### Chart - 1"
      ],
      "metadata": {
        "id": "0wOQAZs5pc--"
      }
    },
    {
      "cell_type": "code",
      "source": [
        "# Chart - 1  Dependent Column Value Counts\n",
        "print(tele_data.Churn.value_counts())\n",
        "print(\"\\n\")\n",
        "\n",
        "# Dependent Variable Column Visualization\n",
        "tele_data['Churn'].value_counts().plot( kind='pie', #Specifies that a pie chart should be created.,\n",
        "                                        figsize=(10,6), #Sets the size of the figure (width, height).\n",
        "                                        autopct=\"%1.1f%%\",#Displays the percentage labels on each pie wedge with one decimal place.\n",
        "                                        startangle=50, #Sets the angle at which the pie chart starts.\n",
        "                                        shadow=True,\n",
        "                                        labels=['Not Churn(%)','Churn(%)'], #Sets the labels for the two categories.\n",
        "                                        colors=['green','red'],explode=[0.12,0]) #Specifies the colors for the two categories.\n",
        "plt.title('Total Percentage of Churn')\n",
        "\n",
        "# Displaying chart\n",
        "plt.show()"
      ],
      "metadata": {
        "id": "7v_ESjsspbW7"
      },
      "execution_count": null,
      "outputs": []
    },
    {
      "cell_type": "markdown",
      "source": [
        "##### 1. Why did you pick the specific chart?"
      ],
      "metadata": {
        "id": "K5QZ13OEpz2H"
      }
    },
    {
      "cell_type": "markdown",
      "source": [
        "Pie charts are commonly used to depict the proportions of a whole, and they are particularly effective for showing data that has already been computed as a percentage of the entire. They are an excellent means of displaying data quantities or percentages in a straightforward and visually pleasing manner."
      ],
      "metadata": {
        "id": "XESiWehPqBRc"
      }
    },
    {
      "cell_type": "markdown",
      "source": [
        "##### 2. What is/are the insight(s) found from the chart?"
      ],
      "metadata": {
        "id": "lQ7QKXXCp7Bj"
      }
    },
    {
      "cell_type": "markdown",
      "source": [
        "According to the following graphic, there are 2850 customers that have not been churned, accounting for 85.5% of the total customer data in the dataset. In contrast, 483 customers were churned, accounting for 14.5% of the total customer data in the dataset.\n",
        "\n",
        "Customers are churned at a rate of 14.5%, which may appear to be a little amount, but it was originally 1.45%, which has since increased to 14.5%. As a result, quick action is required."
      ],
      "metadata": {
        "id": "C_j1G7yiqdRP"
      }
    },
    {
      "cell_type": "markdown",
      "source": [
        "##### 3. Will the gained insights help creating a positive business impact?\n",
        "Are there any insights that lead to negative growth? Justify with specific reason."
      ],
      "metadata": {
        "id": "448CDAPjqfQr"
      }
    },
    {
      "cell_type": "markdown",
      "source": [
        "In a perfect world, the telecom industry's customer turnover rate would be between 15% and 20%. We have a 14.5% churn rate in this, which is not enormous, but losing customers is terrible for company.\n",
        "\n",
        "It is simple to lose clients but extremely tough to get new ones. One churned client will drive away 3-4 consumers who could be recruited by your teleservice provider using the \"POWER OF WORDS.\"\n",
        "\n",
        "So, churn rate data is undoubtedly useful for future decisions.\n"
      ],
      "metadata": {
        "id": "3cspy4FjqxJW"
      }
    },
    {
      "cell_type": "markdown",
      "source": [
        "#### Chart - 2"
      ],
      "metadata": {
        "id": "KSlN3yHqYklG"
      }
    },
    {
      "cell_type": "code",
      "source": [
        "# Chart - 2 visualization code\n",
        "for col in tele_data.describe().columns:\n",
        "    fig,axes = plt.subplots(nrows=1,ncols=2,figsize=(18,6))\n",
        "    sns.histplot(tele_data[col], ax = axes[0],kde = True)\n",
        "    sns.boxplot(tele_data[col], ax = axes[1],orient='h',showmeans=True,color='pink')\n",
        "    fig.suptitle(\"Distribution plot of \"+ col, fontsize = 15)\n",
        "    plt.show()"
      ],
      "metadata": {
        "id": "R4YgtaqtYklH"
      },
      "execution_count": null,
      "outputs": []
    },
    {
      "cell_type": "markdown",
      "source": [
        "##### 1. Why did you pick the specific chart?"
      ],
      "metadata": {
        "id": "t6dVpIINYklI"
      }
    },
    {
      "cell_type": "markdown",
      "source": [
        "Histograms are used to depict the distribution of a single variable. Histograms are bar charts that show the frequency or count of data points within specific ranges. Histograms are very effective for visualizing continuous data like age, height, weight, or income. They let you to observe the distribution's form, including any skewness or outliers, and can assist you in identifying patterns or trends in the data.\n",
        "\n",
        "Box plots are also useful for comparing the distributions of two or more datasets since they show differences and similarities in the data's spread and central tendency.Box plots, also known as box-and-whisker plots, are a sort of data visualization that is used to represent a dataset's distribution and offer a summary of its major statistical aspects.\n"
      ],
      "metadata": {
        "id": "5aaW0BYyYklI"
      }
    },
    {
      "cell_type": "markdown",
      "source": [
        "##### 2. What is/are the insight(s) found from the chart?"
      ],
      "metadata": {
        "id": "ijmpgYnKYklI"
      }
    },
    {
      "cell_type": "markdown",
      "source": [
        "We can observe from the preceding distribution charts that all columns are symmetrically distributed and that the mean is approximately equal to the median for numerical columns. Because there are only three options in this column, Area code will be considered as a categorical variable.\n"
      ],
      "metadata": {
        "id": "PSx9atu2YklI"
      }
    },
    {
      "cell_type": "markdown",
      "source": [
        "##### 3. Will the gained insights help creating a positive business impact?\n",
        "Are there any insights that lead to negative growth? Justify with specific reason."
      ],
      "metadata": {
        "id": "-JiQyfWJYklI"
      }
    },
    {
      "cell_type": "markdown",
      "source": [
        "Histograms and Box plots provide us with complete statistical measure information on how the column data is distributed across the dataset.\n",
        "which can be very much beneficial in Machine learning model training."
      ],
      "metadata": {
        "id": "BcBbebzrYklV"
      }
    },
    {
      "cell_type": "markdown",
      "source": [
        "#### Chart - 3"
      ],
      "metadata": {
        "id": "EM7whBJCYoAo"
      }
    },
    {
      "cell_type": "code",
      "source": [
        "# Chart - 3  State vs. average true churn percentage visualization code\n",
        "\n",
        "# Vizualizing top 10 churned state\n",
        "plt.figure(figsize=(10,5))\n",
        "bar1 = ((tele_data.groupby(['State'])['Churn'].mean()*100).sort_values(ascending = False).reset_index(name=\"Average True Churn \").head(10))\n",
        "plots = sns.barplot(data = bar1, x = 'State', y=\"Average True Churn \")\n",
        "for bar in plots.patches:\n",
        "  plots.annotate(format(bar.get_height(),'.2f'),\n",
        "                   (bar.get_x() + bar.get_width() / 2,\n",
        "                    bar.get_height()), ha='center', va='center',\n",
        "                   size=12, xytext=(0, 8),\n",
        "                   textcoords='offset points')\n",
        "\n",
        "plt.title(\" State with most churn percentage\", fontsize = 20)\n",
        "plt.xlabel('State', fontsize = 15)\n",
        "plt.ylabel('Percentage (%)', fontsize = 15)\n",
        "# Setting limit of the y axis from 0 to 30\n",
        "plt.ylim(0,30)\n",
        "plt.show()"
      ],
      "metadata": {
        "id": "t6GMdE67YoAp"
      },
      "execution_count": null,
      "outputs": []
    },
    {
      "cell_type": "code",
      "source": [
        "# Vizualizing bottom 10 churned state\n",
        "plt.figure(figsize=(10,5))\n",
        "bar1 = ((tele_data.groupby(['State'])['Churn'].mean()*100).sort_values(ascending = True).reset_index(name=\"Average True Churn \").head(10))\n",
        "plots = sns.barplot(data = bar1, x = 'State', y=\"Average True Churn \")\n",
        "for bar in plots.patches:\n",
        "  plots.annotate(format(bar.get_height(),'.2f'),\n",
        "                   (bar.get_x() + bar.get_width() / 2,\n",
        "                    bar.get_height()), ha='center', va='center',\n",
        "                   size=12, xytext=(0, 8),\n",
        "                   textcoords='offset points')\n",
        "plt.title(\" State with least churn percentage\", fontsize = 20)\n",
        "plt.xlabel('State', fontsize = 15)\n",
        "plt.ylabel('Percentage (%)', fontsize = 15)\n",
        "# Setting limit of y axis from 0 to 10\n",
        "plt.ylim(0,10)\n",
        "plt.show()"
      ],
      "metadata": {
        "id": "m2_kJAUOyLTP"
      },
      "execution_count": null,
      "outputs": []
    },
    {
      "cell_type": "markdown",
      "source": [
        "##### 1. Why did you pick the specific chart?"
      ],
      "metadata": {
        "id": "fge-S5ZAYoAp"
      }
    },
    {
      "cell_type": "markdown",
      "source": [
        "The size or frequency of different categories or groupings of data are compared using bar charts. Bar charts are excellent for comparing data across categories and for displaying a vast quantity of data in a compact space.\n",
        "\n",
        "We utilized a Bar Chart to display the average percentage of genuine churn per state.\n"
      ],
      "metadata": {
        "id": "5dBItgRVYoAp"
      }
    },
    {
      "cell_type": "markdown",
      "source": [
        "##### 2. What is/are the insight(s) found from the chart?"
      ],
      "metadata": {
        "id": "85gYPyotYoAp"
      }
    },
    {
      "cell_type": "markdown",
      "source": [
        "There are 51 states with varying turnover rates.\n",
        "\n",
        "**CA, NJ, TX, MD, SC, MI, MS, NV, WA, and ME**have greater churn rates of more than 20%, which is more than 50% of the national average.\n",
        "\n",
        "And the states with the lowest churn rates are **HI, AK, AZ, VA, IA, LA, NE, IL, WI, and RI**.\n"
      ],
      "metadata": {
        "id": "4jstXR6OYoAp"
      }
    },
    {
      "cell_type": "markdown",
      "source": [
        "##### 3. Will the gained insights help creating a positive business impact?\n",
        "Are there any insights that lead to negative growth? Justify with specific reason."
      ],
      "metadata": {
        "id": "RoGjAbkUYoAp"
      }
    },
    {
      "cell_type": "markdown",
      "source": [
        "Yes, the data on state-by-state churning shows that several states have an average churn rate of more than 20%, which has to be examined and further analyzed to see which factors are producing the churn.\n"
      ],
      "metadata": {
        "id": "zfJ8IqMcYoAp"
      }
    },
    {
      "cell_type": "markdown",
      "source": [
        "#### Chart - 4"
      ],
      "metadata": {
        "id": "4Of9eVA-YrdM"
      }
    },
    {
      "cell_type": "code",
      "source": [
        "# Chart - 4  One Digit Account Length\n",
        "one_length = tele_data[tele_data['Account length']<=9].loc[:,['Churn']].value_counts()\n",
        "print(one_length)\n",
        "print(\" \")\n",
        "\n",
        "# Visualizing One Digit Account Length Based on Churn percentage\n",
        "#color palette selection\n",
        "colors = sns.color_palette('pastel')[0:7]\n",
        "textprops = {'fontsize':13}\n",
        "\n",
        "plt.figure(figsize=(15,7))\n",
        "# plotting pie chart\n",
        "plt.pie(one_length, labels=['Not Churn(%)','Churn(%)'], startangle=90, colors=colors, autopct=\"%1.1f%%\",textprops = textprops)\n",
        "plt.title('One Digit Account Length churn rate', fontsize=18)\n",
        "plt.show()"
      ],
      "metadata": {
        "id": "irlUoxc8YrdO"
      },
      "execution_count": null,
      "outputs": []
    },
    {
      "cell_type": "code",
      "source": [
        "# Two Digit Account Length\n",
        "two_account=tele_data[(tele_data['Account length']<=99) & (tele_data['Account length']>=10)].loc[:,['Churn']].value_counts()\n",
        "print(two_account)\n",
        "print(\" \")\n",
        "\n",
        "# Visualizing Two Digit Account Length Based on Churn percentage\n",
        "#color palette selection\n",
        "colors = sns.color_palette('pastel')[0:7]\n",
        "textprops = {'fontsize':13}\n",
        "\n",
        "plt.figure(figsize=(15,7))\n",
        "# plotting pie chart\n",
        "plt.pie(two_account, labels=['Not Churn(%)','Churn(%)'], startangle=90, colors=colors, autopct=\"%1.1f%%\", textprops = textprops)\n",
        "plt.title('Two Digit Account Length churn rate', fontsize=18)\n",
        "plt.show()"
      ],
      "metadata": {
        "id": "6gkwmSPNzDB5"
      },
      "execution_count": null,
      "outputs": []
    },
    {
      "cell_type": "code",
      "source": [
        "# Three Digit Account Length\n",
        "three_account=tele_data[(tele_data['Account length']<=tele_data['Account length'].max()) & (tele_data['Account length']>=100)].loc[:,['Churn']].value_counts()\n",
        "print(three_account)\n",
        "print(\" \")\n",
        "\n",
        "# Visualizing Three Digit Account Length Based on Churn percentage\n",
        "#color palette selection\n",
        "colors = sns.color_palette('pastel')[0:7]\n",
        "textprops = {'fontsize':13}\n",
        "\n",
        "plt.figure(figsize=(15,7))\n",
        "# plotting data on chart using seaborn\n",
        "plt.pie(three_account, labels=['Not Churn(%)','Churn(%)'],startangle=90 , colors=colors, autopct=\"%1.1f%%\",textprops = textprops)\n",
        "plt.title('Three Digit Account Length churn rate', fontsize=18)\n",
        "plt.show()"
      ],
      "metadata": {
        "id": "HmjgIt6dzKIq"
      },
      "execution_count": null,
      "outputs": []
    },
    {
      "cell_type": "code",
      "source": [
        "# Box Plot for Account Length attribute\n",
        "plt.figure(figsize=(10,8))\n",
        "sns.boxplot(data=tele_data, x='Churn', y='Account length', showmeans = True)\n",
        "plt.title('Account Length Boxplot with Churn', fontsize=18)\n",
        "plt.show()"
      ],
      "metadata": {
        "id": "fJ2xGPVFzP_7"
      },
      "execution_count": null,
      "outputs": []
    },
    {
      "cell_type": "markdown",
      "source": [
        "##### 1. Why did you pick the specific chart?"
      ],
      "metadata": {
        "id": "iky9q4vBYrdO"
      }
    },
    {
      "cell_type": "markdown",
      "source": [
        "Pie charts are commonly used to depict the proportions of a whole, and they are particularly effective for showing data that has already been computed as a percentage of the entire.\n",
        "\n",
        "So, I utilized a Pie chart to get a % comparison of the churn percentage account term wise.\n",
        "\n",
        "A boxplot is a single plot that summarizes the major statistical properties of a dataset, such as the median, quartiles, and range. Boxplots are useful for detecting outliers in a dataset, comparing the distribution of several datasets, and analyzing data dispersion. They are frequently used in statistics and data visualization.\n",
        "\n",
        "So, as seen in the box plot graph, I utilized a box plot to obtain the maximum and lowest value with well-segregated outliers and a well-defined mean and median.\n"
      ],
      "metadata": {
        "id": "aJRCwT6DYrdO"
      }
    },
    {
      "cell_type": "markdown",
      "source": [
        "##### 2. What is/are the insight(s) found from the chart?"
      ],
      "metadata": {
        "id": "F6T5p64dYrdO"
      }
    },
    {
      "cell_type": "markdown",
      "source": [
        "**Account Length**\n",
        "\n",
        "We can catagories Account Length into three catagories like\n",
        "![download.png](data:image/png;base64,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)\n",
        "\n",
        "**REMARK**\n",
        "\n",
        "\n",
        "As from the above record, we can see that Two digit Account Length customers are churning with a number of 225 and Three digit Account Length customers are churning with a number of 256.\n",
        "\n",
        "So, their churning rate is high."
      ],
      "metadata": {
        "id": "Xx8WAJvtYrdO"
      }
    },
    {
      "cell_type": "markdown",
      "source": [
        "##### 3. Will the gained insights help creating a positive business impact?\n",
        "Are there any insights that lead to negative growth? Justify with specific reason."
      ],
      "metadata": {
        "id": "y-Ehk30pYrdP"
      }
    },
    {
      "cell_type": "markdown",
      "source": [
        "Account duration is the number of days a client is active. So the churn rate for new consumers is too low, roughly 8.3% in percentage and number is 2. They may just be utilizing the telecom service to reap the perks, and they may be dissatisfied with the service offered and churned.\n",
        "\n",
        "People with account lengths ranging from 10 to 99 had a 14% churn rate. Customers under 50 may be classified as new customers, while those between 55 and 99 may not get advantages from the plan chosen.\n",
        "\n",
        "People with account lengths of more than 100 are considered elderly clients, and they may be churning owing to the lack of new offerings such as the power plus plan or other incentives.\n",
        "\n",
        "Yes, Account Length does provide a clear picture of deciding causes and insights.\n",
        "\n"
      ],
      "metadata": {
        "id": "jLNxxz7MYrdP"
      }
    },
    {
      "cell_type": "markdown",
      "source": [
        "#### Chart - 5"
      ],
      "metadata": {
        "id": "bamQiAODYuh1"
      }
    },
    {
      "cell_type": "code",
      "source": [
        "# Chart - 5 visualization code---> data for international plan\n",
        "inter_plan = tele_data['International plan'].value_counts()\n",
        "print(inter_plan)\n",
        "print(\" \")\n",
        "\n",
        "# Visualizing Percentage of customers taken international plan\n",
        "#color palette selection\n",
        "colors = sns.color_palette('husl')[0:7]\n",
        "textprops = {'fontsize':13}\n",
        "\n",
        "plt.figure(figsize=(15,7))\n",
        "# plotting pie chart\n",
        "plt.pie(inter_plan, labels=['No','Yes'],startangle=90 , colors=colors, autopct=\"%1.1f%%\", textprops = textprops)\n",
        "plt.title('International Plan', fontsize=18)\n",
        "plt.show()\n"
      ],
      "metadata": {
        "id": "TIJwrbroYuh3"
      },
      "execution_count": null,
      "outputs": []
    },
    {
      "cell_type": "code",
      "source": [
        "# Assigning values for furthur charts\n",
        "i1 = tele_data['International plan'].unique()\n",
        "i2 = tele_data.groupby('International plan')['Churn'].mean()*100\n",
        "i3 = tele_data.groupby(['International plan'])['Total intl charge'].mean()\n",
        "i4 = tele_data.groupby([\"Churn\"])['Total intl minutes'].mean()"
      ],
      "metadata": {
        "id": "7nXqFDlUxIxd"
      },
      "execution_count": null,
      "outputs": []
    },
    {
      "cell_type": "code",
      "source": [
        "# Visualizing code for people churning percentage having international plan\n",
        "plt.figure(figsize=(6,7))\n",
        "plots = sns.barplot(x=i1,y=i2)\n",
        "for bar in plots.patches:\n",
        "  plots.annotate(format(bar.get_height(),'.2f'),\n",
        "                    (bar.get_x() + bar.get_width() / 2,\n",
        "                      bar.get_height()), ha='center', va='center',\n",
        "                      size=12, xytext=(0, 8),\n",
        "                      textcoords='offset points')\n",
        "\n",
        "plt.title(\" Percentage of customer churn on basis of International plan\", fontsize = 20)\n",
        "plt.xlabel('International plan', fontsize = 15)\n",
        "plt.ylabel('Percentage (%)', fontsize = 15)\n",
        "plt.ylim(0,45)\n",
        "plt.show()"
      ],
      "metadata": {
        "id": "yDDqH8ttxPzj"
      },
      "execution_count": null,
      "outputs": []
    },
    {
      "cell_type": "code",
      "source": [
        "# Visualizing code for average calling charge of customers having international plan\n",
        "plt.figure(figsize=(6,7))\n",
        "plots = sns.barplot(x=i1,y=i3)\n",
        "for bar in plots.patches:\n",
        "  plots.annotate(format(bar.get_height(),'.2f'),\n",
        "                   (bar.get_x() + bar.get_width() / 2,\n",
        "                    bar.get_height()), ha='center', va='center',\n",
        "                   size=12, xytext=(0, 8),\n",
        "                   textcoords='offset points')\n",
        "plt.title(\" Average charges on the basis of International plan\", fontsize = 20)\n",
        "plt.xlabel('International plan', fontsize = 15)\n",
        "plt.ylabel('Charges', fontsize = 15)\n",
        "plt.ylim(0,3.5)\n",
        "plt.show()"
      ],
      "metadata": {
        "id": "u3RRbRsYxXM5"
      },
      "execution_count": null,
      "outputs": []
    },
    {
      "cell_type": "code",
      "source": [
        "# Visualizing code for average minutes talked by customers having international plan\n",
        "plt.figure(figsize=(6,7))\n",
        "plots = sns.barplot(x=i1,y=i4)\n",
        "for bar in plots.patches:\n",
        "  plots.annotate(format(bar.get_height(),'.2f'),\n",
        "                   (bar.get_x() + bar.get_width() / 2,\n",
        "                    bar.get_height()), ha='center', va='center',\n",
        "                   size=12, xytext=(0, 8),\n",
        "                   textcoords='offset points')\n",
        "plt.title(\" Average International minutes on basis of international plan\", fontsize = 20)\n",
        "plt.xlabel('International Plan', fontsize = 15)\n",
        "plt.ylabel('Minutes', fontsize = 15)\n",
        "plt.ylim(0,12)\n",
        "plt.show()"
      ],
      "metadata": {
        "id": "ISpcqyELxbF8"
      },
      "execution_count": null,
      "outputs": []
    },
    {
      "cell_type": "markdown",
      "source": [
        "##### 1. Why did you pick the specific chart?"
      ],
      "metadata": {
        "id": "QHF8YVU7Yuh3"
      }
    },
    {
      "cell_type": "markdown",
      "source": [
        "Pie charts are a great way to display the proportion of a whole, particularly when the data has already been calculated as a percentage. They can be used to show the percentage of people who have taken an international plan, with each color representing a different segment of the chart.\n",
        "\n",
        "Bar charts are helpful in comparing the size or frequency of different categories or groups of data. They can be used to compare data across various categories and display a large amount of data in a small space. We can use a bar chart to show the percentage of customers with an international plan who have churned, along with their average calling charge and conversation average minutes."
      ],
      "metadata": {
        "id": "dcxuIMRPYuh3"
      }
    },
    {
      "cell_type": "markdown",
      "source": [
        "##### 2. What is/are the insight(s) found from the chart?"
      ],
      "metadata": {
        "id": "GwzvFGzlYuh3"
      }
    },
    {
      "cell_type": "markdown",
      "source": [
        "In this analysis, it was found that out of 3010 people, 323 have an international plan while the remaining 2687 don't. Among those who have an international plan, 42.4% of people left the company (churned), whereas among those who don't have an international plan, only 11.4% of people left the company.\n",
        "\n",
        "Furthermore, among those who have an international plan, their average charge is 2.87 and they talk for an average of 10.7 minutes. On the other hand, among those who don't have an international plan, their average charge is 2.75 and they talk for an average of 10.16 minutes.\n",
        "\n",
        "One possible reason why people having an international plan might be leaving is that they are paying the same amount of money for international calls as customers who don't have an international plan. As a result, they aren't receiving any additional benefits for having an international plan, which could be making them unhappy."
      ],
      "metadata": {
        "id": "uyqkiB8YYuh3"
      }
    },
    {
      "cell_type": "markdown",
      "source": [
        "3. \"Can insights lead to negative growth? Please provide a specific justification.\"\n",
        "\n",
        "Yes, the insights obtained can definitely have a positive impact on the business. For instance, customers with an international plan are charged additional fees, but the talk time value is the same as for customers without an international plan. This could be a major reason for the higher rate of churn among customers with an international plan.\""
      ],
      "metadata": {
        "id": "7IBRkqMcyXPB"
      }
    },
    {
      "cell_type": "markdown",
      "source": [
        "#### Chart - 6"
      ],
      "metadata": {
        "id": "OH-pJp9IphqM"
      }
    },
    {
      "cell_type": "code",
      "source": [
        "# Chart - 6 visualization code --> data for voice mail plan\n",
        "voice = tele_data['Voice mail plan'].value_counts()\n",
        "\n",
        "# vizualizing code for customers percentage having voice mail plan\n",
        "\n",
        "#color palette selection\n",
        "palette_color = sns.color_palette('pastel')\n",
        "textprops = {'fontsize':13}\n",
        "\n",
        "# plotting chart of voice mail\n",
        "plt.figure(figsize=(9,7))\n",
        "plt.pie(voice, labels=['No','Yes'],startangle=90 , colors=palette_color, autopct=\"%1.1f%%\",textprops = textprops)\n",
        "plt.title('Distribution of customers having voice mail plan', fontsize=18)\n",
        "plt.show()"
      ],
      "metadata": {
        "id": "kuRf4wtuphqN"
      },
      "execution_count": null,
      "outputs": []
    },
    {
      "cell_type": "code",
      "source": [
        "# Vizualizing code for customers churning while having voice mail plan\n",
        "\n",
        "cc1=list(['no','yes'])\n",
        "cc2=tele_data.groupby('Voice mail plan')['Churn'].mean()*100\n",
        "\n",
        "plt.figure(figsize=(6,8))\n",
        "plots = sns.barplot(x=cc1,y=cc2)\n",
        "for bar in plots.patches:\n",
        "  plots.annotate(format(bar.get_height(),'.2f'),\n",
        "                   (bar.get_x() + bar.get_width() / 2,\n",
        "                    bar.get_height()), ha='center', va='center',\n",
        "                   size=12, xytext=(0, 8),\n",
        "                   textcoords='offset points')\n",
        "\n",
        "plt.title(\" Percentage of customer churn on basis of voice mail plan\", fontsize = 20)\n",
        "plt.xlabel('Voice mail plan', fontsize = 15)\n",
        "plt.ylabel('Percentage (%)', fontsize = 15)\n",
        "plt.show()"
      ],
      "metadata": {
        "id": "x0ck3Up1zCdt"
      },
      "execution_count": null,
      "outputs": []
    },
    {
      "cell_type": "markdown",
      "source": [
        "##### 1. Why did you pick the specific chart?"
      ],
      "metadata": {
        "id": "bbFf2-_FphqN"
      }
    },
    {
      "cell_type": "markdown",
      "source": [
        "Pie charts are a common way to represent the proportion of a whole. They are particularly helpful when presenting data that has already been calculated as a percentage of the total. In this context, we have used a pie chart to illustrate the percentage of customers who have a voice mail plan.\n",
        "\n",
        "On the other hand, bar charts are a useful tool to compare the size or frequency of different categories or groups of data. They are especially helpful for comparing data across various categories and displaying a large amount of data in a small space. In this context, we have used a bar chart to demonstrate the percentage of customers who have churned and had a voice mail plan."
      ],
      "metadata": {
        "id": "loh7H2nzphqN"
      }
    },
    {
      "cell_type": "markdown",
      "source": [
        "##### 2. What is/are the insight(s) found from the chart?"
      ],
      "metadata": {
        "id": "_ouA3fa0phqN"
      }
    },
    {
      "cell_type": "markdown",
      "source": [
        "Please note that there are two types of customers in our system: those who have a voice mail plan and those who don't. The customer ID 2411 does not have a voice mail plan, while the customer ID 922 has a voice mail plan.\n",
        "\n",
        "It is important to note that among customers who don't have a voice mail plan, 16.7% of them tend to leave our service. On the other hand, among customers with a voice mail plan, only 8.7% leave our service.\n",
        "\n",
        "Therefore, it can be concluded that customers with a voice mail plan tend to churn less frequently than those who don't have a voice mail plan."
      ],
      "metadata": {
        "id": "VECbqPI7phqN"
      }
    },
    {
      "cell_type": "markdown",
      "source": [
        "##### 3. Will the gained insights help creating a positive business impact?\n",
        "Are there any insights that lead to negative growth? Justify with specific reason."
      ],
      "metadata": {
        "id": "Seke61FWphqN"
      }
    },
    {
      "cell_type": "markdown",
      "source": [
        "\"I am considering the voicemail plan partially.\""
      ],
      "metadata": {
        "id": "DW4_bGpfphqN"
      }
    },
    {
      "cell_type": "markdown",
      "source": [
        "#### Chart - 7"
      ],
      "metadata": {
        "id": "PIIx-8_IphqN"
      }
    },
    {
      "cell_type": "code",
      "source": [
        "# Chart - 7 visualization code Visualizing code for Area Code wise average churn percentage\n",
        "a1= tele_data['Area code'].unique()\n",
        "b1= tele_data.groupby('Area code')['Churn'].mean()*100\n",
        "\n",
        "plt.figure(figsize=(6,5))\n",
        "plots = sns.barplot(x=a1, y=b1)\n",
        "for bar in plots.patches:\n",
        "  plots.annotate(format(bar.get_height(),'.2f'),\n",
        "                   (bar.get_x() + bar.get_width() / 2,\n",
        "                    bar.get_height()), ha='center', va='center',\n",
        "                   size=12, xytext=(0, 8),\n",
        "                   textcoords='offset points')\n",
        "plt.title('Area Code vs Churn Percantage',fontsize=20)\n",
        "plt.xlabel('Area code', fontsize = 15)\n",
        "plt.ylabel('Churn percentage (%)', fontsize = 15)\n",
        "plt.ylim(0,17)\n",
        "plt.show()"
      ],
      "metadata": {
        "id": "lqAIGUfyphqO"
      },
      "execution_count": null,
      "outputs": []
    },
    {
      "cell_type": "markdown",
      "source": [
        "##### 1. Why did you pick the specific chart?"
      ],
      "metadata": {
        "id": "t27r6nlMphqO"
      }
    },
    {
      "cell_type": "markdown",
      "source": [
        "Bar charts are commonly used to compare the size or frequency of different categories or groups of data. They are particularly useful for comparing data across different categories, and can effectively display a large amount of data in a small space. In order to display the average percentage of true churn with respect to Area Code, we have utilized a Bar Chart."
      ],
      "metadata": {
        "id": "iv6ro40sphqO"
      }
    },
    {
      "cell_type": "markdown",
      "source": [
        "##### 2. What is/are the insight(s) found from the chart?"
      ],
      "metadata": {
        "id": "r2jJGEOYphqO"
      }
    },
    {
      "cell_type": "markdown",
      "source": [
        "The churn rate is approximately 14% for all area codes, which indicates that the area code is not a significant factor to consider."
      ],
      "metadata": {
        "id": "Po6ZPi4hphqO"
      }
    },
    {
      "cell_type": "markdown",
      "source": [
        "##### 3. Will the gained insights help creating a positive business impact?\n",
        "Are there any insights that lead to negative growth? Justify with specific reason."
      ],
      "metadata": {
        "id": "b0JNsNcRphqO"
      }
    },
    {
      "cell_type": "markdown",
      "source": [
        "No, It has been observed that the area code does not have any impact on the churn rate, as it remains constant at 14% for all area codes. However, if we further classify the area codes by their respective states, we can analyze the states where the issue is occurring. Therefore, it has been suggested that analyzing the states rather than area codes can help to identify the issue and create a business impact."
      ],
      "metadata": {
        "id": "xvSq8iUTphqO"
      }
    },
    {
      "cell_type": "markdown",
      "source": [
        "#### Chart - 8"
      ],
      "metadata": {
        "id": "BZR9WyysphqO"
      }
    },
    {
      "cell_type": "code",
      "source": [
        "# Chart - 8 visualization code Average of total day calls, total day minutes & total day charge of churn\n",
        "cn_dcalls = pd.DataFrame(tele_data.groupby([\"Churn\"])['Total day calls'].mean())\n",
        "print(cn_dcalls)\n",
        "print('')\n",
        "cn_dm = pd.DataFrame(tele_data.groupby([\"Churn\"])['Total day minutes'].mean())\n",
        "print(cn_dm)\n",
        "print('')\n",
        "cn_dc = pd.DataFrame(tele_data.groupby([\"Churn\"])['Total day charge'].mean())\n",
        "print(cn_dc)"
      ],
      "metadata": {
        "id": "TdPTWpAVphqO"
      },
      "execution_count": null,
      "outputs": []
    },
    {
      "cell_type": "code",
      "source": [
        "# Vizualizing Total day minutes vs total day charge\n",
        "plt.figure(figsize=(7,8))\n",
        "sns.scatterplot(data=tele_data, x=\"Total day minutes\", y=\"Total day charge\", hue=\"Churn\")\n",
        "plt.title('Total Day Minutes, vs Total Day Charge', fontsize=18)\n",
        "plt.xlabel('Total day minutes',fontsize = 13)\n",
        "plt.ylabel('Total day charges',fontsize = 13)\n",
        "plt.show()"
      ],
      "metadata": {
        "id": "q2IKTDvY00jn"
      },
      "execution_count": null,
      "outputs": []
    },
    {
      "cell_type": "code",
      "source": [
        "# Average of total eve calls, total eve minutes & total evening charge of churn\n",
        "cn_ecalls = pd.DataFrame(tele_data.groupby([\"Churn\"])['Total eve calls'].mean())\n",
        "print(cn_ecalls)\n",
        "print(\" \")\n",
        "cn_em = pd.DataFrame(tele_data.groupby([\"Churn\"])['Total eve minutes'].mean())\n",
        "print(cn_em)\n",
        "print(\" \")\n",
        "cn_ec = pd.DataFrame(tele_data.groupby([\"Churn\"])['Total eve charge'].mean())\n",
        "print(cn_ec)\n"
      ],
      "metadata": {
        "id": "DkZ43Q8e06Gm"
      },
      "execution_count": null,
      "outputs": []
    },
    {
      "cell_type": "code",
      "source": [
        "# Vizualizing total evening minutes vs total evening charge\n",
        "plt.figure(figsize=(7,8))\n",
        "sns.scatterplot(x=\"Total eve minutes\", y=\"Total eve charge\", hue=\"Churn\", data=tele_data)\n",
        "plt.title('Total evening minutes vs Total evening charge', fontsize=18)\n",
        "plt.xlabel('Total eve minutes',fontsize = 13)\n",
        "plt.ylabel('Total eve charges',fontsize = 13)\n",
        "plt.show()"
      ],
      "metadata": {
        "id": "mmH0jgzf1BBw"
      },
      "execution_count": null,
      "outputs": []
    },
    {
      "cell_type": "code",
      "source": [
        "# Average of total night calls, total night minutes & total night charge of churn\n",
        "cn_ncalls = pd.DataFrame(tele_data.groupby([\"Churn\"])['Total night calls'].mean())\n",
        "print(cn_ncalls)\n",
        "print(\" \")\n",
        "cn_nm = pd.DataFrame(tele_data.groupby([\"Churn\"])['Total night minutes'].mean())\n",
        "print(cn_nm)\n",
        "print(\" \")\n",
        "cn_nc = pd.DataFrame(tele_data.groupby([\"Churn\"])['Total night charge'].mean())\n",
        "print(cn_nc)"
      ],
      "metadata": {
        "id": "_P8Fl9mw0-Z8"
      },
      "execution_count": null,
      "outputs": []
    },
    {
      "cell_type": "code",
      "source": [
        "# Vizualizing Total night minutes vs total night charge\n",
        "plt.figure(figsize=(7,8))\n",
        "sns.scatterplot(x=\"Total night minutes\", y=\"Total night charge\", hue=\"Churn\", data=tele_data)\n",
        "plt.title('Total night minutes vs Total night charge', fontsize=18)\n",
        "plt.xlabel('Total night minutes',fontsize = 13)\n",
        "plt.ylabel('Total night charges',fontsize = 13)\n",
        "plt.show()"
      ],
      "metadata": {
        "id": "Stc5iiRZ1J1k"
      },
      "execution_count": null,
      "outputs": []
    },
    {
      "cell_type": "code",
      "source": [
        "# Table of average calls of total day, eve & night on basis of churn\n",
        "cn_calls = pd.merge(pd.merge(cn_dcalls,cn_ecalls, on = 'Churn'),cn_ncalls,on = 'Churn').round(2).T\n",
        "cn_calls"
      ],
      "metadata": {
        "id": "_35iqp9Q1OV-"
      },
      "execution_count": null,
      "outputs": []
    },
    {
      "cell_type": "code",
      "source": [
        "# Bar plot of above table\n",
        "plt.figure(figsize=(9,6))\n",
        "cn_calls.plot(kind='bar',ylabel='mean')\n",
        "plt.title('Average of calls on the basis of churn', fontsize=18)\n",
        "plt.xlabel(\"calls\", fontsize = 13)\n",
        "plt.ylabel('Average of Calls',fontsize = 13)\n",
        "plt.show()"
      ],
      "metadata": {
        "id": "nCPm_BLS1TQV"
      },
      "execution_count": null,
      "outputs": []
    },
    {
      "cell_type": "code",
      "source": [
        "# Table of average minutes of total day, eve & night on basis of churn\n",
        "cn_minutes = pd.merge(pd.merge(cn_dm,cn_em, on = 'Churn'),cn_nm,on = 'Churn').round(2).T\n",
        "cn_minutes"
      ],
      "metadata": {
        "id": "7L7hUAyE1WQU"
      },
      "execution_count": null,
      "outputs": []
    },
    {
      "cell_type": "code",
      "source": [
        "# Bar plot of above table\n",
        "plt.figure(figsize=(9,6))\n",
        "cn_minutes.plot(kind='bar',ylabel='mean')\n",
        "plt.title('Average of minutes on the basis of churn', fontsize=18)\n",
        "plt.xlabel(\"minutes\", fontsize = 13)\n",
        "plt.ylabel('Average of minutes',fontsize = 13)\n",
        "plt.show()"
      ],
      "metadata": {
        "id": "F78pE6hl1Y24"
      },
      "execution_count": null,
      "outputs": []
    },
    {
      "cell_type": "code",
      "source": [
        "# Table of average charges of total day, eve & night on basis of churn\n",
        "cn_charges = pd.merge(pd.merge(cn_dc,cn_ec, on = 'Churn'),cn_nc,on = 'Churn').round(2).T\n",
        "cn_charges"
      ],
      "metadata": {
        "id": "iI6iODpD1dBU"
      },
      "execution_count": null,
      "outputs": []
    },
    {
      "cell_type": "code",
      "source": [
        "# Bar plot of above table\n",
        "plt.figure(figsize=(9,7))\n",
        "cn_charges.plot(kind='bar',ylabel='mean')\n",
        "plt.title('Average of charges on the basis of churn', fontsize=18)\n",
        "plt.xlabel(\"Charges\", fontsize = 13)\n",
        "plt.ylabel('Average of charges',fontsize = 13)\n",
        "plt.show()\n"
      ],
      "metadata": {
        "id": "NvME9xfa1fL9"
      },
      "execution_count": null,
      "outputs": []
    },
    {
      "cell_type": "markdown",
      "source": [
        "##### 1. Why did you pick the specific chart?"
      ],
      "metadata": {
        "id": "jj7wYXLtphqO"
      }
    },
    {
      "cell_type": "markdown",
      "source": [
        "Scatter plots are a type of diagram used to display the relationship between two numerical variables. They are quite useful for detecting patterns and trends in data. By visually depicting the relationship between two variables, scatter plots provide a clear picture of how the two variables are related.\n",
        "\n",
        "In the case of our analysis, we have employed a scatter plot to represent the correlation between evening, day, and night calls, minutes, and charge.\n",
        "\n",
        "On the other hand, bar charts are a type of graph used to compare different categories or groups of data by displaying their size or frequency. Bar charts are an excellent way to compare data across different categories and can be used to present a large amount of data in a small space.\n",
        "\n",
        "In our analysis, we have used a bar chart to display the manipulated evening, night, and day data, which has allowed us to depict meaningful insights."
      ],
      "metadata": {
        "id": "Ob8u6rCTphqO"
      }
    },
    {
      "cell_type": "markdown",
      "source": [
        "##### 2. What is/are the insight(s) found from the chart?"
      ],
      "metadata": {
        "id": "eZrbJ2SmphqO"
      }
    },
    {
      "cell_type": "markdown",
      "source": [
        "Churn customers tend to speak for more minutes during the day, evening, and night, resulting in higher charges than non-churn customers. To prevent losing these customers, we can introduce a master plan that offers discounts or additional free minutes to customers who exceed the allotted talk time. This approach will make customers who are at risk of churning happier and more likely to stay with our company."
      ],
      "metadata": {
        "id": "mZtgC_hjphqO"
      }
    },
    {
      "cell_type": "markdown",
      "source": [
        "##### 3. Will the gained insights help creating a positive business impact?\n",
        "Are there any insights that lead to negative growth? Justify with specific reason."
      ],
      "metadata": {
        "id": "rFu4xreNphqO"
      }
    },
    {
      "cell_type": "markdown",
      "source": [
        "Telecom service providers offer two essential product plans: calling and messaging. Therefore, optimizing voice call plans can have a positive impact on business. Customers who use only the calling service should be provided with additional offers such as talk time or power plus plans. For those who use voice call plans only during the night, exciting plans can be offered from midnight until 6 a.m. Loyal customers with a higher account length should be provided with exciting offers to retain their loyalty, as the churning of such customers will have a negative impact on the business."
      ],
      "metadata": {
        "id": "ey_0qi68phqO"
      }
    },
    {
      "cell_type": "markdown",
      "source": [
        "#### Chart - 9"
      ],
      "metadata": {
        "id": "YJ55k-q6phqO"
      }
    },
    {
      "cell_type": "code",
      "source": [
        "# Chart - 9 visualization code data for customer service calls\n",
        "service = pd.DataFrame(tele_data.groupby('Customer service calls')['Churn'].mean()*100)\n",
        "\n",
        "# Visualizing churn rate per customer service calls\n",
        "plt.figure(figsize=(8,5))\n",
        "plots = sns.barplot(x=service.index, y=service['Churn'])\n",
        "for bar in plots.patches:\n",
        "  plots.annotate(format(bar.get_height(),'.2f'),\n",
        "                   (bar.get_x() + bar.get_width() / 2,\n",
        "                    bar.get_height()), ha='center', va='center',\n",
        "                   size=12, xytext=(0, 8),\n",
        "                   textcoords='offset points')\n",
        "plt.title(\"Churn rate per service call\", fontsize = 20)\n",
        "plt.xlabel('No of cust service call', fontsize = 15)\n",
        "plt.ylabel('Percentage (%)', fontsize = 15)\n",
        "plt.show()"
      ],
      "metadata": {
        "id": "B2aS4O1ophqO"
      },
      "execution_count": null,
      "outputs": []
    },
    {
      "cell_type": "markdown",
      "source": [
        "##### 1. Why did you pick the specific chart?"
      ],
      "metadata": {
        "id": "gCFgpxoyphqP"
      }
    },
    {
      "cell_type": "markdown",
      "source": [
        "Bar charts are a reliable tool for comparing the size or frequency of different categories or groups of data. They are particularly useful when comparing data across distinct categories, and they can help to effectively display a large amount of data in a small space. In our case, we have used a bar plot to demonstrate the relationship between the churn rate and the number of customer service calls."
      ],
      "metadata": {
        "id": "TVxDimi2phqP"
      }
    },
    {
      "cell_type": "markdown",
      "source": [
        "##### 2. What is/are the insight(s) found from the chart?"
      ],
      "metadata": {
        "id": "OVtJsKN_phqQ"
      }
    },
    {
      "cell_type": "markdown",
      "source": [
        "The number of customer service calls can range from 0 to 9. However, customers who make more service calls are likelier to leave the company. This is evident from the graph, which shows that customers who make more than five service calls have a higher churn rate. Therefore, it is crucial to promptly address the queries of customers who make more than five service calls and provide better service to prevent them from leaving the company.\n",
        "\n",
        "**Customers who contact customer service four times or more are four times more likely to churn than those who contact less than four times.**"
      ],
      "metadata": {
        "id": "ngGi97qjphqQ"
      }
    },
    {
      "cell_type": "markdown",
      "source": [
        "##### 3. Will the gained insights help creating a positive business impact?\n",
        "Are there any insights that lead to negative growth? Justify with specific reason."
      ],
      "metadata": {
        "id": "lssrdh5qphqQ"
      }
    },
    {
      "cell_type": "markdown",
      "source": [
        "Providing good customer service is crucial for the success of any business. It has a positive impact on customer satisfaction, loyalty, and retention. To ensure good customer service, it is important to promptly attend to customer calls and resolve their queries as quickly as possible. The resolution duration of customer queries should be optimized to ensure efficiency. If a particular issue is reported by more than five customers, a root cause analysis should be conducted to identify the problem and fix it for everyone. The number of calls made by each customer should be minimized, and their issues should be resolved in a single call. Customer service agents who perform well in resolving customer issues should be recognized or rewarded for their efforts."
      ],
      "metadata": {
        "id": "tBpY5ekJphqQ"
      }
    },
    {
      "cell_type": "markdown",
      "source": [
        "#### Chart - 10"
      ],
      "metadata": {
        "id": "U2RJ9gkRphqQ"
      }
    },
    {
      "cell_type": "code",
      "source": [
        "import numpy as np\n",
        "\n",
        "# Correlation Heatmap visualization code\n",
        "corr = tele_data.corr()\n",
        "mask = np.zeros_like(corr)\n",
        "\n",
        "mask[np.triu_indices_from(mask)] = False\n",
        "\n",
        "with sns.axes_style(\"white\"):\n",
        "    f, ax = plt.subplots(figsize=(18, 12))\n",
        "    ax = sns.heatmap(corr , mask=mask, vmin = -1,vmax=1, annot = True, cmap=\"YlGnBu\")\n"
      ],
      "metadata": {
        "id": "GM7a4YP4phqQ"
      },
      "execution_count": null,
      "outputs": []
    },
    {
      "cell_type": "markdown",
      "source": [
        "##### 1. Why did you pick the specific chart?"
      ],
      "metadata": {
        "id": "1M8mcRywphqQ"
      }
    },
    {
      "cell_type": "markdown",
      "source": [
        "The correlation coefficient is a statistical measure that shows how strong and in which direction a linear relationship between two variables exists. A correlation matrix is a useful tool to summarize the relationships among a set of variables and helps in selecting which variables to include in a model. The correlation coefficient ranges from -1 to 1, indicating the strength and direction of the correlation.\n",
        "\n",
        "**For analyzing the correlation between variables, we used a correlation heatmap to obtain correlation coefficients.**"
      ],
      "metadata": {
        "id": "8agQvks0phqQ"
      }
    },
    {
      "cell_type": "markdown",
      "source": [
        "##### 2. What is/are the insight(s) found from the chart?"
      ],
      "metadata": {
        "id": "tgIPom80phqQ"
      }
    },
    {
      "cell_type": "markdown",
      "source": [
        "Based on the correlation heatmap above, we can observe that the following variables are highly positively correlated: total day charge and total day minute, total evening charge and total evening minute, and total night charge and total night minute. These variables have a correlation value of 1. On the other hand, customer service calls are only positively correlated with area code and negatively correlated with the rest of the variables. The other correlations can be inferred from the chart presented above."
      ],
      "metadata": {
        "id": "Qp13pnNzphqQ"
      }
    },
    {
      "cell_type": "markdown",
      "source": [
        "## **5. Solution to Business Objective**"
      ],
      "metadata": {
        "id": "JcMwzZxoAimU"
      }
    },
    {
      "cell_type": "markdown",
      "source": [
        "#### What do you suggest the client to achieve Business Objective ?\n",
        "Explain Briefly."
      ],
      "metadata": {
        "id": "8G2x9gOozGDZ"
      }
    },
    {
      "cell_type": "markdown",
      "source": [
        "**Here are some solutions to reduce customer churn:**\n",
        "- Modify the international plan to charge the same as the standard plan.\n",
        "- Be proactive in communication with customers.\n",
        "- Ask for feedback regularly.\n",
        "- Periodically offer incentives to retain customers.\n",
        "- Look into the customers who face problems in the states with the highest churn rates.\n",
        "- Focus on retaining the best customers.\n",
        "- Regularly maintain the servers.\n",
        "- Solve connectivity issues to improve network performance.\n",
        "- Define a clear roadmap for new customers.\n",
        "- Analyze churn when it occurs.\n",
        "- Stay competitive in the market."
      ],
      "metadata": {
        "id": "pASKb0qOza21"
      }
    },
    {
      "cell_type": "markdown",
      "source": [
        "# **Conclusion**"
      ],
      "metadata": {
        "id": "gCX9965dhzqZ"
      }
    },
    {
      "cell_type": "markdown",
      "source": [
        "The telecommunications industry is already established, and acquiring new customers is slow. As a result, businesses in this sector aim to retain existing customers and decrease customer churn. This project analyzed a churn dataset to identify the primary factors contributing to churn and gain valuable insights. By conducting exploratory data analysis, we were able to obtain insights into the churn dataset, which are listed below:\n",
        "- The four charge fields have a direct correlation to the minute fields.\n",
        "- The area code may be irrelevant and can be excluded.\n",
        "- Customers who have an International Plan tend to churn more frequently.\n",
        "- Customers who have made four or more customer service calls tend to churn significantly more than those who haven't.\n",
        "- Customers with high day and evening minute usage are more likely to churn.\n",
        "- There is no clear relationship between churn and variables such as day calls, evening calls, night calls, international calls, night minutes, international minutes, account length, or voicemail messages."
      ],
      "metadata": {
        "id": "Fjb1IsQkh3yE"
      }
    },
    {
      "cell_type": "markdown",
      "source": [
        "### ***Hurrah! You have successfully completed your EDA Capstone Project !!!***"
      ],
      "metadata": {
        "id": "gIfDvo9L0UH2"
      }
    }
  ]
}